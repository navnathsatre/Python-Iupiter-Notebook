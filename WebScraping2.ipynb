{
 "cells": [
  {
   "cell_type": "code",
   "execution_count": 1,
   "id": "d06312f0",
   "metadata": {},
   "outputs": [],
   "source": [
    "from bs4 import BeautifulSoup"
   ]
  },
  {
   "cell_type": "code",
   "execution_count": 4,
   "id": "e94cabef",
   "metadata": {},
   "outputs": [],
   "source": [
    "HTMLfilepath = \"web_scraping_example.html\"\n",
    "with open(HTMLfilepath, \"r\") as organization:\n",
    "    soup = BeautifulSoup(organization, \"lxml\")\n",
    "    "
   ]
  },
  {
   "cell_type": "code",
   "execution_count": 5,
   "id": "6345467a",
   "metadata": {},
   "outputs": [
    {
     "data": {
      "text/plain": [
       "[<html>\n",
       " <body>\n",
       " <div class=\"oraganization\">\n",
       " <ul id=\"HR\">\n",
       " <li class=\"HRmanager\">\n",
       " <div class=\"name\">Jack</div>\n",
       " <div class=\"ID\">101</div>\n",
       " </li>\n",
       " <li class=\"HRmanager\">\n",
       " <div class=\"name\">Daren</div>\n",
       " <div class=\"ID\">65</div>\n",
       " </li>\n",
       " </ul>\n",
       " <ul id=\"IT\">\n",
       " <li class=\"ITmanager\">\n",
       " <div class=\"name\">Morris</div>\n",
       " <div class=\"ID\">39</div>\n",
       " </li>\n",
       " <li class=\"ITmanager\">\n",
       " <div class=\"name\">Jane</div>\n",
       " <div class=\"ID\">11</div>\n",
       " </li>\n",
       " </ul>\n",
       " <ul id=\"Finance\">\n",
       " <li class=\"accountmanager\">\n",
       " <div class=\"name\">Tom</div>\n",
       " <div class=\"ID\">22</div>\n",
       " </li>\n",
       " <li class=\"accountmanager\">\n",
       " <div class=\"name\">Kelly</div>\n",
       " <div class=\"ID\">95</div>\n",
       " </li>\n",
       " </ul>\n",
       " </div>\n",
       " </body>\n",
       " </html>]"
      ]
     },
     "execution_count": 5,
     "metadata": {},
     "output_type": "execute_result"
    }
   ],
   "source": [
    "# view the content of the soup object\n",
    "soup.contents"
   ]
  },
  {
   "cell_type": "code",
   "execution_count": 6,
   "id": "51a0341c",
   "metadata": {},
   "outputs": [],
   "source": [
    "# search using find method\n",
    "tag_li = soup.find(\"li\")"
   ]
  },
  {
   "cell_type": "code",
   "execution_count": 7,
   "id": "5a4a463a",
   "metadata": {},
   "outputs": [
    {
     "name": "stdout",
     "output_type": "stream",
     "text": [
      "<class 'bs4.element.Tag'>\n"
     ]
    }
   ],
   "source": [
    "#print the tag type\n",
    "print(type(tag_li))"
   ]
  },
  {
   "cell_type": "code",
   "execution_count": 8,
   "id": "0968468e",
   "metadata": {},
   "outputs": [
    {
     "name": "stdout",
     "output_type": "stream",
     "text": [
      "<li class=\"HRmanager\">\n",
      "<div class=\"name\">Jack</div>\n",
      "<div class=\"ID\">101</div>\n",
      "</li>\n"
     ]
    }
   ],
   "source": [
    "#print the tag\n",
    "print(tag_li)"
   ]
  },
  {
   "cell_type": "code",
   "execution_count": 11,
   "id": "cb3bd386",
   "metadata": {},
   "outputs": [],
   "source": [
    "# search the document using find method for an ID\n",
    "find_id = soup.find(id=\"HR\")"
   ]
  },
  {
   "cell_type": "code",
   "execution_count": 12,
   "id": "bf65ca5e",
   "metadata": {},
   "outputs": [
    {
     "name": "stdout",
     "output_type": "stream",
     "text": [
      "<ul id=\"HR\">\n",
      "<li class=\"HRmanager\">\n",
      "<div class=\"name\">Jack</div>\n",
      "<div class=\"ID\">101</div>\n",
      "</li>\n",
      "<li class=\"HRmanager\">\n",
      "<div class=\"name\">Daren</div>\n",
      "<div class=\"ID\">65</div>\n",
      "</li>\n",
      "</ul>\n"
     ]
    }
   ],
   "source": [
    "# print the find_id object\n",
    "print(find_id)"
   ]
  },
  {
   "cell_type": "code",
   "execution_count": 13,
   "id": "8ee33b9a",
   "metadata": {},
   "outputs": [
    {
     "name": "stdout",
     "output_type": "stream",
     "text": [
      "Jack\n"
     ]
    }
   ],
   "source": [
    "# print the string value\n",
    "print(find_id.li.div.string)"
   ]
  },
  {
   "cell_type": "code",
   "execution_count": 16,
   "id": "24802780",
   "metadata": {},
   "outputs": [],
   "source": [
    "# search using string only\n",
    "search_for_stringOnly = soup.find_all(text = [\"Kelly\", \"Jack\"])"
   ]
  },
  {
   "cell_type": "code",
   "execution_count": 17,
   "id": "194d0d60",
   "metadata": {},
   "outputs": [
    {
     "name": "stdout",
     "output_type": "stream",
     "text": [
      "['Jack', 'Kelly']\n"
     ]
    }
   ],
   "source": [
    "# print the search value\n",
    "print(search_for_stringOnly)"
   ]
  },
  {
   "cell_type": "code",
   "execution_count": 18,
   "id": "69af43bc",
   "metadata": {},
   "outputs": [
    {
     "name": "stdout",
     "output_type": "stream",
     "text": [
      "<li class=\"ITmanager\">\n",
      "<div class=\"name\">Morris</div>\n",
      "<div class=\"ID\">39</div>\n",
      "</li>\n"
     ]
    }
   ],
   "source": [
    "# search based on css class name(present as an attribute)\n",
    "css_class_search = soup.find(attrs = {\"class\":\"ITmanager\"})\n",
    "print(css_class_search)"
   ]
  },
  {
   "cell_type": "code",
   "execution_count": 19,
   "id": "17e3355e",
   "metadata": {},
   "outputs": [],
   "source": [
    "# create a function to search document based on tag passed as parameter\n",
    "def is_account_manager(tag):\n",
    "    return tag.has_attr(\"id\") and tag.get(\"id\") == \"Finance\""
   ]
  },
  {
   "cell_type": "code",
   "execution_count": 20,
   "id": "51c4e3d4",
   "metadata": {},
   "outputs": [
    {
     "name": "stdout",
     "output_type": "stream",
     "text": [
      "Tom\n"
     ]
    }
   ],
   "source": [
    "# search the document using funtion and print it\n",
    "account_manager = soup.find(is_account_manager)\n",
    "print(account_manager.li.div.string)"
   ]
  },
  {
   "cell_type": "code",
   "execution_count": 28,
   "id": "39a634e3",
   "metadata": {},
   "outputs": [
    {
     "name": "stdout",
     "output_type": "stream",
     "text": [
      "html,body,div,ul,li,div,div,li,div,div,ul,li,div,div,li,div,div,ul,li,div,div,li,div,div,"
     ]
    }
   ],
   "source": [
    "# print tag names using True - which return all the tags present in the document\n",
    "for tag in soup.findAll(True):\n",
    "    print(tag.name, end=\",\")\n",
    "    "
   ]
  },
  {
   "cell_type": "code",
   "execution_count": 33,
   "id": "55f94b2c",
   "metadata": {},
   "outputs": [],
   "source": [
    "# search using find all method for the given class\n",
    "find_class = soup.find_all(class_=\"HRmanager\")"
   ]
  },
  {
   "cell_type": "code",
   "execution_count": 34,
   "id": "378f4ac2",
   "metadata": {},
   "outputs": [
    {
     "data": {
      "text/plain": [
       "bs4.element.ResultSet"
      ]
     },
     "execution_count": 34,
     "metadata": {},
     "output_type": "execute_result"
    }
   ],
   "source": [
    "# view the type of the class\n",
    "type(find_class)"
   ]
  },
  {
   "cell_type": "code",
   "execution_count": 35,
   "id": "2daaf1ff",
   "metadata": {},
   "outputs": [
    {
     "name": "stdout",
     "output_type": "stream",
     "text": [
      "<li class=\"HRmanager\">\n",
      "<div class=\"name\">Jack</div>\n",
      "<div class=\"ID\">101</div>\n",
      "</li>\n"
     ]
    }
   ],
   "source": [
    "#print the reasultlist\n",
    "print(find_class[0])"
   ]
  },
  {
   "cell_type": "code",
   "execution_count": 36,
   "id": "9f101639",
   "metadata": {},
   "outputs": [
    {
     "name": "stdout",
     "output_type": "stream",
     "text": [
      "<ul id=\"HR\">\n",
      "<li class=\"HRmanager\">\n",
      "<div class=\"name\">Jack</div>\n",
      "<div class=\"ID\">101</div>\n",
      "</li>\n",
      "<li class=\"HRmanager\">\n",
      "<div class=\"name\">Daren</div>\n",
      "<div class=\"ID\">65</div>\n",
      "</li>\n",
      "</ul>\n"
     ]
    }
   ],
   "source": [
    "# find parents using find parent method\n",
    "find_class = find_class[0]\n",
    "find_parent = find_class.find_parent(\"ul\")\n",
    "print(find_parent)"
   ]
  },
  {
   "cell_type": "code",
   "execution_count": 37,
   "id": "6fbc973a",
   "metadata": {},
   "outputs": [],
   "source": [
    "# now use find methon to search based on the id\n",
    "org = soup.find(id = \"IT\")"
   ]
  },
  {
   "cell_type": "code",
   "execution_count": 38,
   "id": "2b8c9a48",
   "metadata": {},
   "outputs": [
    {
     "name": "stdout",
     "output_type": "stream",
     "text": [
      "<ul id=\"IT\">\n",
      "<li class=\"ITmanager\">\n",
      "<div class=\"name\">Morris</div>\n",
      "<div class=\"ID\">39</div>\n",
      "</li>\n",
      "<li class=\"ITmanager\">\n",
      "<div class=\"name\">Jane</div>\n",
      "<div class=\"ID\">11</div>\n",
      "</li>\n",
      "</ul>\n"
     ]
    }
   ],
   "source": [
    "# print teh search object\n",
    "print(org)"
   ]
  },
  {
   "cell_type": "code",
   "execution_count": 41,
   "id": "3fd81bef",
   "metadata": {},
   "outputs": [
    {
     "data": {
      "text/plain": [
       "[<ul id=\"Finance\">\n",
       " <li class=\"accountmanager\">\n",
       " <div class=\"name\">Tom</div>\n",
       " <div class=\"ID\">22</div>\n",
       " </li>\n",
       " <li class=\"accountmanager\">\n",
       " <div class=\"name\">Kelly</div>\n",
       " <div class=\"ID\">95</div>\n",
       " </li>\n",
       " </ul>]"
      ]
     },
     "execution_count": 41,
     "metadata": {},
     "output_type": "execute_result"
    }
   ],
   "source": [
    "# find the next siblings\n",
    "next_siblings = org.findNextSiblings()\n",
    "next_siblings"
   ]
  },
  {
   "cell_type": "code",
   "execution_count": 40,
   "id": "e2deff13",
   "metadata": {},
   "outputs": [
    {
     "name": "stdout",
     "output_type": "stream",
     "text": [
      "<bound method PageElement.find_parents of <ul id=\"IT\">\n",
      "<li class=\"ITmanager\">\n",
      "<div class=\"name\">Morris</div>\n",
      "<div class=\"ID\">39</div>\n",
      "</li>\n",
      "<li class=\"ITmanager\">\n",
      "<div class=\"name\">Jane</div>\n",
      "<div class=\"ID\">11</div>\n",
      "</li>\n",
      "</ul>>\n"
     ]
    }
   ],
   "source": [
    "#print parents\n",
    "parent = org.findParents\n",
    "print(parent)"
   ]
  },
  {
   "cell_type": "code",
   "execution_count": 42,
   "id": "b1cff686",
   "metadata": {
    "scrolled": true
   },
   "outputs": [
    {
     "name": "stdout",
     "output_type": "stream",
     "text": [
      "[<div class=\"ID\">65</div>, <div class=\"name\">Daren</div>, <li class=\"HRmanager\">\n",
      "<div class=\"name\">Daren</div>\n",
      "<div class=\"ID\">65</div>\n",
      "</li>, <div class=\"ID\">101</div>, <div class=\"name\">Jack</div>, <li class=\"HRmanager\">\n",
      "<div class=\"name\">Jack</div>\n",
      "<div class=\"ID\">101</div>\n",
      "</li>, <ul id=\"HR\">\n",
      "<li class=\"HRmanager\">\n",
      "<div class=\"name\">Jack</div>\n",
      "<div class=\"ID\">101</div>\n",
      "</li>\n",
      "<li class=\"HRmanager\">\n",
      "<div class=\"name\">Daren</div>\n",
      "<div class=\"ID\">65</div>\n",
      "</li>\n",
      "</ul>, <div class=\"oraganization\">\n",
      "<ul id=\"HR\">\n",
      "<li class=\"HRmanager\">\n",
      "<div class=\"name\">Jack</div>\n",
      "<div class=\"ID\">101</div>\n",
      "</li>\n",
      "<li class=\"HRmanager\">\n",
      "<div class=\"name\">Daren</div>\n",
      "<div class=\"ID\">65</div>\n",
      "</li>\n",
      "</ul>\n",
      "<ul id=\"IT\">\n",
      "<li class=\"ITmanager\">\n",
      "<div class=\"name\">Morris</div>\n",
      "<div class=\"ID\">39</div>\n",
      "</li>\n",
      "<li class=\"ITmanager\">\n",
      "<div class=\"name\">Jane</div>\n",
      "<div class=\"ID\">11</div>\n",
      "</li>\n",
      "</ul>\n",
      "<ul id=\"Finance\">\n",
      "<li class=\"accountmanager\">\n",
      "<div class=\"name\">Tom</div>\n",
      "<div class=\"ID\">22</div>\n",
      "</li>\n",
      "<li class=\"accountmanager\">\n",
      "<div class=\"name\">Kelly</div>\n",
      "<div class=\"ID\">95</div>\n",
      "</li>\n",
      "</ul>\n",
      "</div>, <body>\n",
      "<div class=\"oraganization\">\n",
      "<ul id=\"HR\">\n",
      "<li class=\"HRmanager\">\n",
      "<div class=\"name\">Jack</div>\n",
      "<div class=\"ID\">101</div>\n",
      "</li>\n",
      "<li class=\"HRmanager\">\n",
      "<div class=\"name\">Daren</div>\n",
      "<div class=\"ID\">65</div>\n",
      "</li>\n",
      "</ul>\n",
      "<ul id=\"IT\">\n",
      "<li class=\"ITmanager\">\n",
      "<div class=\"name\">Morris</div>\n",
      "<div class=\"ID\">39</div>\n",
      "</li>\n",
      "<li class=\"ITmanager\">\n",
      "<div class=\"name\">Jane</div>\n",
      "<div class=\"ID\">11</div>\n",
      "</li>\n",
      "</ul>\n",
      "<ul id=\"Finance\">\n",
      "<li class=\"accountmanager\">\n",
      "<div class=\"name\">Tom</div>\n",
      "<div class=\"ID\">22</div>\n",
      "</li>\n",
      "<li class=\"accountmanager\">\n",
      "<div class=\"name\">Kelly</div>\n",
      "<div class=\"ID\">95</div>\n",
      "</li>\n",
      "</ul>\n",
      "</div>\n",
      "</body>, <html>\n",
      "<body>\n",
      "<div class=\"oraganization\">\n",
      "<ul id=\"HR\">\n",
      "<li class=\"HRmanager\">\n",
      "<div class=\"name\">Jack</div>\n",
      "<div class=\"ID\">101</div>\n",
      "</li>\n",
      "<li class=\"HRmanager\">\n",
      "<div class=\"name\">Daren</div>\n",
      "<div class=\"ID\">65</div>\n",
      "</li>\n",
      "</ul>\n",
      "<ul id=\"IT\">\n",
      "<li class=\"ITmanager\">\n",
      "<div class=\"name\">Morris</div>\n",
      "<div class=\"ID\">39</div>\n",
      "</li>\n",
      "<li class=\"ITmanager\">\n",
      "<div class=\"name\">Jane</div>\n",
      "<div class=\"ID\">11</div>\n",
      "</li>\n",
      "</ul>\n",
      "<ul id=\"Finance\">\n",
      "<li class=\"accountmanager\">\n",
      "<div class=\"name\">Tom</div>\n",
      "<div class=\"ID\">22</div>\n",
      "</li>\n",
      "<li class=\"accountmanager\">\n",
      "<div class=\"name\">Kelly</div>\n",
      "<div class=\"ID\">95</div>\n",
      "</li>\n",
      "</ul>\n",
      "</div>\n",
      "</body>\n",
      "</html>]\n"
     ]
    }
   ],
   "source": [
    "#find and print previous\n",
    "all_previous = org.findAllPrevious()\n",
    "print(all_previous)"
   ]
  },
  {
   "cell_type": "code",
   "execution_count": 44,
   "id": "ff5b1dac",
   "metadata": {},
   "outputs": [
    {
     "name": "stdout",
     "output_type": "stream",
     "text": [
      "<ul id=\"HR\">\n",
      "<li class=\"HRmanager\">\n",
      "<div class=\"name\">Jack</div>\n",
      "<div class=\"ID\">101</div>\n",
      "</li>\n",
      "<li class=\"HRmanager\">\n",
      "<div class=\"name\">Daren</div>\n",
      "<div class=\"ID\">65</div>\n",
      "</li>\n",
      "</ul>\n"
     ]
    }
   ],
   "source": [
    "# search and print previous siblings\n",
    "previous_sibling = org.findPreviousSibling()\n",
    "print(previous_sibling)"
   ]
  },
  {
   "cell_type": "code",
   "execution_count": 45,
   "id": "f3e89ad9",
   "metadata": {},
   "outputs": [
    {
     "name": "stdout",
     "output_type": "stream",
     "text": [
      "[<li class=\"ITmanager\">\n",
      "<div class=\"name\">Morris</div>\n",
      "<div class=\"ID\">39</div>\n",
      "</li>, <div class=\"name\">Morris</div>, <div class=\"ID\">39</div>, <li class=\"ITmanager\">\n",
      "<div class=\"name\">Jane</div>\n",
      "<div class=\"ID\">11</div>\n",
      "</li>, <div class=\"name\">Jane</div>, <div class=\"ID\">11</div>, <ul id=\"Finance\">\n",
      "<li class=\"accountmanager\">\n",
      "<div class=\"name\">Tom</div>\n",
      "<div class=\"ID\">22</div>\n",
      "</li>\n",
      "<li class=\"accountmanager\">\n",
      "<div class=\"name\">Kelly</div>\n",
      "<div class=\"ID\">95</div>\n",
      "</li>\n",
      "</ul>, <li class=\"accountmanager\">\n",
      "<div class=\"name\">Tom</div>\n",
      "<div class=\"ID\">22</div>\n",
      "</li>, <div class=\"name\">Tom</div>, <div class=\"ID\">22</div>, <li class=\"accountmanager\">\n",
      "<div class=\"name\">Kelly</div>\n",
      "<div class=\"ID\">95</div>\n",
      "</li>, <div class=\"name\">Kelly</div>, <div class=\"ID\">95</div>]\n"
     ]
    }
   ],
   "source": [
    "# search and print all next\n",
    "all_next = org.findAllNext()\n",
    "print(all_next)"
   ]
  },
  {
   "cell_type": "code",
   "execution_count": 46,
   "id": "fe34908a",
   "metadata": {},
   "outputs": [
    {
     "name": "stdout",
     "output_type": "stream",
     "text": [
      "\n",
      "abc@examlpe.com\n"
     ]
    }
   ],
   "source": [
    "# use regular expression to search teh document\n",
    "import re\n",
    "email_example = \"\"\"<br/>\n",
    "<p>my email id is </p>\n",
    "abc@examlpe.com\"\"\"\n",
    "soup_email = BeautifulSoup(email_example, \"lxml\")\n",
    "email_regexp = re.compile(\"\\w+@\\w+\\.\\w+\")\n",
    "email_id = soup_email.find(text = email_regexp)\n",
    "print(email_id)"
   ]
  },
  {
   "cell_type": "code",
   "execution_count": null,
   "id": "8e86454c",
   "metadata": {},
   "outputs": [],
   "source": []
  },
  {
   "cell_type": "code",
   "execution_count": 47,
   "id": "4e09b6ac",
   "metadata": {},
   "outputs": [],
   "source": [
    "# book_soup = BeautifulSoup(book_html_doc, \"htmll.parser\")"
   ]
  },
  {
   "cell_type": "code",
   "execution_count": 48,
   "id": "b767e528",
   "metadata": {},
   "outputs": [],
   "source": [
    "# print(book_soup.catalog)"
   ]
  },
  {
   "cell_type": "code",
   "execution_count": 49,
   "id": "68c4d1ad",
   "metadata": {},
   "outputs": [],
   "source": [
    "# book_soup.head"
   ]
  },
  {
   "cell_type": "code",
   "execution_count": 50,
   "id": "48140483",
   "metadata": {},
   "outputs": [],
   "source": [
    "# book_soup.title"
   ]
  },
  {
   "cell_type": "code",
   "execution_count": 51,
   "id": "745f1c08",
   "metadata": {},
   "outputs": [],
   "source": [
    "# book_soup.catalog.p"
   ]
  },
  {
   "cell_type": "code",
   "execution_count": 53,
   "id": "a5ecb801",
   "metadata": {},
   "outputs": [],
   "source": [
    "# for descen in book_soup.head.descenders:\n",
    "#     print(descen)"
   ]
  },
  {
   "cell_type": "code",
   "execution_count": 55,
   "id": "71477207",
   "metadata": {},
   "outputs": [],
   "source": [
    "# for string in book_soup.stripped_strings:\n",
    "#     print(repr(string))"
   ]
  },
  {
   "cell_type": "code",
   "execution_count": null,
   "id": "da1672d1",
   "metadata": {},
   "outputs": [],
   "source": [
    " "
   ]
  }
 ],
 "metadata": {
  "kernelspec": {
   "display_name": "Python 3",
   "language": "python",
   "name": "python3"
  },
  "language_info": {
   "codemirror_mode": {
    "name": "ipython",
    "version": 3
   },
   "file_extension": ".py",
   "mimetype": "text/x-python",
   "name": "python",
   "nbconvert_exporter": "python",
   "pygments_lexer": "ipython3",
   "version": "3.8.8"
  },
  "toc": {
   "base_numbering": 1,
   "nav_menu": {},
   "number_sections": true,
   "sideBar": true,
   "skip_h1_title": false,
   "title_cell": "Table of Contents",
   "title_sidebar": "Contents",
   "toc_cell": false,
   "toc_position": {},
   "toc_section_display": true,
   "toc_window_display": false
  },
  "varInspector": {
   "cols": {
    "lenName": 16,
    "lenType": 16,
    "lenVar": 40
   },
   "kernels_config": {
    "python": {
     "delete_cmd_postfix": "",
     "delete_cmd_prefix": "del ",
     "library": "var_list.py",
     "varRefreshCmd": "print(var_dic_list())"
    },
    "r": {
     "delete_cmd_postfix": ") ",
     "delete_cmd_prefix": "rm(",
     "library": "var_list.r",
     "varRefreshCmd": "cat(var_dic_list()) "
    }
   },
   "types_to_exclude": [
    "module",
    "function",
    "builtin_function_or_method",
    "instance",
    "_Feature"
   ],
   "window_display": false
  }
 },
 "nbformat": 4,
 "nbformat_minor": 5
}
